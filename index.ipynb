{
 "cells": [
  {
   "cell_type": "markdown",
   "metadata": {},
   "source": [
    "Publication Quality Plots\n",
    "------\n",
    "\n",
    "[Timeseries](/notebooks/plots/TimeseriesPlots.ipynb): time-series plots using the `mosaicscripts.plots.timeseries` module.\n",
    "\n",
    "[Histograms](/notebooks/plots/HistogramPlots.ipynb): histogram plots using the `mosaicscripts.plot.histogram` module.\n",
    "\n",
    "[Contours](/notebooks/plots/ContourPlots.ipynb): contour plots using the `mosaicscripts.plot.contour` module."
   ]
  }
 ],
 "metadata": {
  "kernelspec": {
   "display_name": "Python 2",
   "language": "python",
   "name": "python2"
  },
  "language_info": {
   "codemirror_mode": {
    "name": "ipython",
    "version": 2
   },
   "file_extension": ".py",
   "mimetype": "text/x-python",
   "name": "python",
   "nbconvert_exporter": "python",
   "pygments_lexer": "ipython2",
   "version": "2.7.8"
  }
 },
 "nbformat": 4,
 "nbformat_minor": 0
}
