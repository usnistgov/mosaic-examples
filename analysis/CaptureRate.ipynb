{
 "cells": [
  {
   "cell_type": "markdown",
   "metadata": {},
   "source": [
    "Estimate the capture rate of molecules partitioning into a nanopore.\n",
    "\n",
    "    :Created:    12/27/2015\n",
    "    :Author:     Arvind Balijepalli <arvind.balijepalli@nist.gov>\n",
    "    :License:    See LICENSE.TXT\n",
    "    :ChangeLog:\n",
    "        12/27/15        AB    Initial version"
   ]
  },
  {
   "cell_type": "code",
   "execution_count": 1,
   "metadata": {
    "collapsed": false
   },
   "outputs": [],
   "source": [
    "import numpy as np\n",
    "from scipy.optimize import curve_fit\n",
    "import matplotlib.pyplot as plt\n",
    "\n",
    "from mosaicscripts.analysis.kinetics import CaptureRate, query1Col\n",
    "import mosaicscripts.plots.mplformat as mplformat\n",
    "from mosaic.utilities.fit_funcs import singleExponential"
   ]
  },
  {
   "cell_type": "code",
   "execution_count": 11,
   "metadata": {
    "collapsed": false
   },
   "outputs": [],
   "source": [
    "mplformat.update_rcParams()"
   ]
  },
  {
   "cell_type": "markdown",
   "metadata": {},
   "source": [
    "Wrapper Function to Estimate the Capture Rate\n",
    "-------------"
   ]
  },
  {
   "cell_type": "markdown",
   "metadata": {},
   "source": [
    "The capture rate can be estimated directly by calling the `CaptureRate` function in `mosaicscripts.analysis.kinetics`. The function returns a list with two elements: the capture rate (s$^{-1}$), and the standard error of the capture rate (s$^{-1}$)."
   ]
  },
  {
   "cell_type": "code",
   "execution_count": 3,
   "metadata": {
    "collapsed": false
   },
   "outputs": [
    {
     "data": {
      "text/plain": [
       "array([ 27.9,   0.2])"
      ]
     },
     "execution_count": 3,
     "metadata": {},
     "output_type": "execute_result"
    }
   ],
   "source": [
    "np.round(\n",
    "        CaptureRate(\n",
    "            \"../data/eventMD-P28-bin.sqlite\",\n",
    "            \"select AbsEventStart from metadata where ProcessingStatus='normal' and ResTime > 0.02 order by AbsEventStart ASC\"\n",
    "           ),\n",
    "        decimals=1\n",
    "    )"
   ]
  },
  {
   "cell_type": "markdown",
   "metadata": {},
   "source": [
    "The Gory Details\n",
    "-------------"
   ]
  },
  {
   "cell_type": "markdown",
   "metadata": {},
   "source": [
    "Continue reading to dig deeper into how the capture rate is estimated within the `CaptureRate` function.\n",
    "\n",
    "The first step is to read in the start times for each event. This is easily donewith a query to the MOSAIC database as shown below. The start times are stored in the `AbsEventStart` column. We limit the events we use to estimate the capture rate to ones that were successfully fit (`ProcessingStatus`='normal') and those whose residence times (`ResTime`) in the pore are longer than 20 $\\mu$s.\n",
    "\n",
    "Finally, we sort the `AbsEventStart` to ensure the event start times are in ascending order."
   ]
  },
  {
   "cell_type": "code",
   "execution_count": 4,
   "metadata": {
    "collapsed": true
   },
   "outputs": [],
   "source": [
    "start_times=query1Col(\n",
    "        \"../data/eventMD-P28-bin.sqlite\",\n",
    "        \"select AbsEventStart from metadata where ProcessingStatus='normal' and ResTime > 0.02 order by AbsEventStart ASC\"\n",
    "    )"
   ]
  },
  {
   "cell_type": "markdown",
   "metadata": {},
   "source": [
    "Next, we calculate the arrival times, i.e. the time between the start of successive events. This is done with the `Numpy` diff function. Note that `AbsEventStart` is stored in seconds within the database. We convert the arrival times to milliseconds to make the formatting a little cleaner."
   ]
  },
  {
   "cell_type": "code",
   "execution_count": 5,
   "metadata": {
    "collapsed": false
   },
   "outputs": [],
   "source": [
    "arrival_times=np.diff(start_times)/1000."
   ]
  },
  {
   "cell_type": "markdown",
   "metadata": {},
   "source": [
    "The partitioning of molecules into the pore is a stochastic process. There are however a couple properties related to  stochastic process that we will leverage that makes the estimation of the capture rate more robust. With randomly occuring events that have some mean rate, the number of events scales linearly with time. Therefore, the distribution of these events follows a single exponential form. We can easily test this by calculating the probability density function (PDF) using the `Numpy` histogram function. Note that the `density`=`True` argument normalizes the histogram resulting in a PDF. "
   ]
  },
  {
   "cell_type": "code",
   "execution_count": 6,
   "metadata": {
    "collapsed": false
   },
   "outputs": [],
   "source": [
    "density,bins=np.histogram(arrival_times, bins=100, density=True)"
   ]
  },
  {
   "cell_type": "markdown",
   "metadata": {},
   "source": [
    "Plot the resulting PDF with `Matplotlib` to verify the distribution. Sure enough on a semilog scale, the resulting distribution appears linear suggesting an exponential form. "
   ]
  },
  {
   "cell_type": "code",
   "execution_count": 12,
   "metadata": {
    "collapsed": false
   },
   "outputs": [
    {
     "data": {
      "image/png": "[encoded data removed]",
      "text/plain": [
       "<matplotlib.figure.Figure at 0x10c06f710>"
      ]
     },
     "metadata": {},
     "output_type": "display_data"
    }
   ],
   "source": [
    "plt.semilogy(\n",
    "        bins[:len(density)], density, \n",
    "        linestyle='None',\n",
    "        marker='o', \n",
    "        markersize=8,\n",
    "        markeredgecolor='blue',\n",
    "        markerfacecolor='None'\n",
    "    )\n",
    "plt.xlim(0.02,0.4)\n",
    "plt.axes().set_xlabel(\"Arrival Times (ms)\")\n",
    "plt.axes().set_ylabel(\"Density (ms$^{-1}$)\")\n",
    "plt.show()"
   ]
  },
  {
   "cell_type": "markdown",
   "metadata": {},
   "source": [
    "Next we fit the PDF to a single exponential function of the form $a\\ e^{-t/\\tau}$, where a is a scaling factor and $\\tau$ is the mean time of the distribution (with a rate of 1/$\\tau$). This is accomplished with the `curve_fit` function within `Scipy`."
   ]
  },
  {
   "cell_type": "code",
   "execution_count": 8,
   "metadata": {
    "collapsed": false
   },
   "outputs": [],
   "source": [
    "popt, pcov = curve_fit(singleExponential, bins[:len(density)], density, p0=[1, np.mean(arrival_times)])"
   ]
  },
  {
   "cell_type": "markdown",
   "metadata": {},
   "source": [
    "We then visually check the fit, by superimposing the resulting fit function over the PDF."
   ]
  },
  {
   "cell_type": "code",
   "execution_count": 9,
   "metadata": {
    "collapsed": false
   },
   "outputs": [
    {
     "data": {
      "image/png": "[encoded data removed]",
      "text/plain": [
       "<matplotlib.figure.Figure at 0x10c06f650>"
      ]
     },
     "metadata": {},
     "output_type": "display_data"
    }
   ],
   "source": [
    "plt.semilogy(\n",
    "        bins[:len(density)], density, \n",
    "        linestyle='None',\n",
    "        marker='o', \n",
    "        markersize=8,\n",
    "        markeredgecolor='blue',\n",
    "        markerfacecolor='None'\n",
    "    )\n",
    "plt.semilogy( \n",
    "            np.arange(0.02,0.4,0.02),\n",
    "            singleExponential(np.arange(0.02,0.4,0.02), popt[0],popt[1]),\n",
    "            color='blue'\n",
    "        )\n",
    "plt.xlim(0.02,0.4)\n",
    "plt.axes().set_xlabel(\"Arrival Times (ms)\")\n",
    "plt.axes().set_ylabel(\"Density (ms$^{-1}$)\")\n",
    "plt.show()"
   ]
  },
  {
   "cell_type": "markdown",
   "metadata": {},
   "source": [
    "Finally, we can extract the capture rate (1/$\\tau$) from the optimal fit parameters."
   ]
  },
  {
   "cell_type": "code",
   "execution_count": 10,
   "metadata": {
    "collapsed": false
   },
   "outputs": [
    {
     "data": {
      "text/plain": [
       "array([ 27.9])"
      ]
     },
     "execution_count": 10,
     "metadata": {},
     "output_type": "execute_result"
    }
   ],
   "source": [
    "np.round([1/popt[1]], decimals=1 )"
   ]
  }
 ],
 "metadata": {
  "kernelspec": {
   "display_name": "Python 2",
   "language": "python",
   "name": "python2"
  },
  "language_info": {
   "codemirror_mode": {
    "name": "ipython",
    "version": 2
   },
   "file_extension": ".py",
   "mimetype": "text/x-python",
   "name": "python",
   "nbconvert_exporter": "python",
   "pygments_lexer": "ipython2",
   "version": "2.7.8"
  }
 },
 "nbformat": 4,
 "nbformat_minor": 0
}
